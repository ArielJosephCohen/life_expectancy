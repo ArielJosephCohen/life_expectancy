{
 "cells": [
  {
   "cell_type": "code",
   "execution_count": 1,
   "metadata": {},
   "outputs": [],
   "source": [
    "import warnings\n",
    "warnings.filterwarnings('ignore')\n",
    "import numpy as np\n",
    "import pandas as pd\n",
    "import seaborn as sns\n",
    "%matplotlib inline\n",
    "import matplotlib.pyplot as plt\n",
    "from scipy import stats\n",
    "from sklearn.preprocessing import *\n",
    "from sklearn.metrics import *\n",
    "from sklearn.model_selection import train_test_split\n",
    "from sklearn.feature_selection import RFE"
   ]
  },
  {
   "cell_type": "code",
   "execution_count": 2,
   "metadata": {},
   "outputs": [],
   "source": [
    "df = pd.read_csv('Life Expectancy Data.csv')"
   ]
  },
  {
   "cell_type": "code",
   "execution_count": 3,
   "metadata": {},
   "outputs": [
    {
     "name": "stdout",
     "output_type": "stream",
     "text": [
      "(2938, 22)\n"
     ]
    },
    {
     "data": {
      "text/html": [
       "<div>\n",
       "<style scoped>\n",
       "    .dataframe tbody tr th:only-of-type {\n",
       "        vertical-align: middle;\n",
       "    }\n",
       "\n",
       "    .dataframe tbody tr th {\n",
       "        vertical-align: top;\n",
       "    }\n",
       "\n",
       "    .dataframe thead th {\n",
       "        text-align: right;\n",
       "    }\n",
       "</style>\n",
       "<table border=\"1\" class=\"dataframe\">\n",
       "  <thead>\n",
       "    <tr style=\"text-align: right;\">\n",
       "      <th></th>\n",
       "      <th>Country</th>\n",
       "      <th>Year</th>\n",
       "      <th>Status</th>\n",
       "      <th>Life expectancy</th>\n",
       "      <th>Adult Mortality</th>\n",
       "      <th>infant deaths</th>\n",
       "      <th>Alcohol</th>\n",
       "      <th>percentage expenditure</th>\n",
       "      <th>Hepatitis B</th>\n",
       "      <th>Measles</th>\n",
       "      <th>...</th>\n",
       "      <th>Polio</th>\n",
       "      <th>Total expenditure</th>\n",
       "      <th>Diphtheria</th>\n",
       "      <th>HIV/AIDS</th>\n",
       "      <th>GDP</th>\n",
       "      <th>Population</th>\n",
       "      <th>thinness  1-19 years</th>\n",
       "      <th>thinness 5-9 years</th>\n",
       "      <th>Income composition of resources</th>\n",
       "      <th>Schooling</th>\n",
       "    </tr>\n",
       "  </thead>\n",
       "  <tbody>\n",
       "    <tr>\n",
       "      <td>0</td>\n",
       "      <td>Afghanistan</td>\n",
       "      <td>2015</td>\n",
       "      <td>Developing</td>\n",
       "      <td>65.0</td>\n",
       "      <td>263.0</td>\n",
       "      <td>62</td>\n",
       "      <td>0.01</td>\n",
       "      <td>71.279624</td>\n",
       "      <td>65.0</td>\n",
       "      <td>1154</td>\n",
       "      <td>...</td>\n",
       "      <td>6.0</td>\n",
       "      <td>8.16</td>\n",
       "      <td>65.0</td>\n",
       "      <td>0.1</td>\n",
       "      <td>584.259210</td>\n",
       "      <td>33736494.0</td>\n",
       "      <td>17.2</td>\n",
       "      <td>17.3</td>\n",
       "      <td>0.479</td>\n",
       "      <td>10.1</td>\n",
       "    </tr>\n",
       "    <tr>\n",
       "      <td>1</td>\n",
       "      <td>Afghanistan</td>\n",
       "      <td>2014</td>\n",
       "      <td>Developing</td>\n",
       "      <td>59.9</td>\n",
       "      <td>271.0</td>\n",
       "      <td>64</td>\n",
       "      <td>0.01</td>\n",
       "      <td>73.523582</td>\n",
       "      <td>62.0</td>\n",
       "      <td>492</td>\n",
       "      <td>...</td>\n",
       "      <td>58.0</td>\n",
       "      <td>8.18</td>\n",
       "      <td>62.0</td>\n",
       "      <td>0.1</td>\n",
       "      <td>612.696514</td>\n",
       "      <td>327582.0</td>\n",
       "      <td>17.5</td>\n",
       "      <td>17.5</td>\n",
       "      <td>0.476</td>\n",
       "      <td>10.0</td>\n",
       "    </tr>\n",
       "    <tr>\n",
       "      <td>2</td>\n",
       "      <td>Afghanistan</td>\n",
       "      <td>2013</td>\n",
       "      <td>Developing</td>\n",
       "      <td>59.9</td>\n",
       "      <td>268.0</td>\n",
       "      <td>66</td>\n",
       "      <td>0.01</td>\n",
       "      <td>73.219243</td>\n",
       "      <td>64.0</td>\n",
       "      <td>430</td>\n",
       "      <td>...</td>\n",
       "      <td>62.0</td>\n",
       "      <td>8.13</td>\n",
       "      <td>64.0</td>\n",
       "      <td>0.1</td>\n",
       "      <td>631.744976</td>\n",
       "      <td>31731688.0</td>\n",
       "      <td>17.7</td>\n",
       "      <td>17.7</td>\n",
       "      <td>0.470</td>\n",
       "      <td>9.9</td>\n",
       "    </tr>\n",
       "    <tr>\n",
       "      <td>3</td>\n",
       "      <td>Afghanistan</td>\n",
       "      <td>2012</td>\n",
       "      <td>Developing</td>\n",
       "      <td>59.5</td>\n",
       "      <td>272.0</td>\n",
       "      <td>69</td>\n",
       "      <td>0.01</td>\n",
       "      <td>78.184215</td>\n",
       "      <td>67.0</td>\n",
       "      <td>2787</td>\n",
       "      <td>...</td>\n",
       "      <td>67.0</td>\n",
       "      <td>8.52</td>\n",
       "      <td>67.0</td>\n",
       "      <td>0.1</td>\n",
       "      <td>669.959000</td>\n",
       "      <td>3696958.0</td>\n",
       "      <td>17.9</td>\n",
       "      <td>18.0</td>\n",
       "      <td>0.463</td>\n",
       "      <td>9.8</td>\n",
       "    </tr>\n",
       "    <tr>\n",
       "      <td>4</td>\n",
       "      <td>Afghanistan</td>\n",
       "      <td>2011</td>\n",
       "      <td>Developing</td>\n",
       "      <td>59.2</td>\n",
       "      <td>275.0</td>\n",
       "      <td>71</td>\n",
       "      <td>0.01</td>\n",
       "      <td>7.097109</td>\n",
       "      <td>68.0</td>\n",
       "      <td>3013</td>\n",
       "      <td>...</td>\n",
       "      <td>68.0</td>\n",
       "      <td>7.87</td>\n",
       "      <td>68.0</td>\n",
       "      <td>0.1</td>\n",
       "      <td>63.537231</td>\n",
       "      <td>2978599.0</td>\n",
       "      <td>18.2</td>\n",
       "      <td>18.2</td>\n",
       "      <td>0.454</td>\n",
       "      <td>9.5</td>\n",
       "    </tr>\n",
       "  </tbody>\n",
       "</table>\n",
       "<p>5 rows × 22 columns</p>\n",
       "</div>"
      ],
      "text/plain": [
       "       Country  Year      Status  Life expectancy   Adult Mortality  \\\n",
       "0  Afghanistan  2015  Developing              65.0            263.0   \n",
       "1  Afghanistan  2014  Developing              59.9            271.0   \n",
       "2  Afghanistan  2013  Developing              59.9            268.0   \n",
       "3  Afghanistan  2012  Developing              59.5            272.0   \n",
       "4  Afghanistan  2011  Developing              59.2            275.0   \n",
       "\n",
       "   infant deaths  Alcohol  percentage expenditure  Hepatitis B  Measles   ...  \\\n",
       "0             62     0.01               71.279624         65.0      1154  ...   \n",
       "1             64     0.01               73.523582         62.0       492  ...   \n",
       "2             66     0.01               73.219243         64.0       430  ...   \n",
       "3             69     0.01               78.184215         67.0      2787  ...   \n",
       "4             71     0.01                7.097109         68.0      3013  ...   \n",
       "\n",
       "   Polio  Total expenditure  Diphtheria    HIV/AIDS         GDP  Population  \\\n",
       "0    6.0               8.16         65.0        0.1  584.259210  33736494.0   \n",
       "1   58.0               8.18         62.0        0.1  612.696514    327582.0   \n",
       "2   62.0               8.13         64.0        0.1  631.744976  31731688.0   \n",
       "3   67.0               8.52         67.0        0.1  669.959000   3696958.0   \n",
       "4   68.0               7.87         68.0        0.1   63.537231   2978599.0   \n",
       "\n",
       "    thinness  1-19 years   thinness 5-9 years  \\\n",
       "0                   17.2                 17.3   \n",
       "1                   17.5                 17.5   \n",
       "2                   17.7                 17.7   \n",
       "3                   17.9                 18.0   \n",
       "4                   18.2                 18.2   \n",
       "\n",
       "   Income composition of resources  Schooling  \n",
       "0                            0.479       10.1  \n",
       "1                            0.476       10.0  \n",
       "2                            0.470        9.9  \n",
       "3                            0.463        9.8  \n",
       "4                            0.454        9.5  \n",
       "\n",
       "[5 rows x 22 columns]"
      ]
     },
     "execution_count": 3,
     "metadata": {},
     "output_type": "execute_result"
    }
   ],
   "source": [
    "print(df.shape)\n",
    "df.head()"
   ]
  },
  {
   "cell_type": "code",
   "execution_count": 4,
   "metadata": {},
   "outputs": [],
   "source": [
    "country_df = df.groupby('Country',as_index=False).mean()"
   ]
  },
  {
   "cell_type": "code",
   "execution_count": 5,
   "metadata": {},
   "outputs": [
    {
     "data": {
      "text/plain": [
       "Country                              0\n",
       "Year                                 0\n",
       "Status                               0\n",
       "Life expectancy                     10\n",
       "Adult Mortality                     10\n",
       "infant deaths                        0\n",
       "Alcohol                            194\n",
       "percentage expenditure               0\n",
       "Hepatitis B                        553\n",
       "Measles                              0\n",
       " BMI                                34\n",
       "under-five deaths                    0\n",
       "Polio                               19\n",
       "Total expenditure                  226\n",
       "Diphtheria                          19\n",
       " HIV/AIDS                            0\n",
       "GDP                                448\n",
       "Population                         652\n",
       " thinness  1-19 years               34\n",
       " thinness 5-9 years                 34\n",
       "Income composition of resources    167\n",
       "Schooling                          163\n",
       "dtype: int64"
      ]
     },
     "execution_count": 5,
     "metadata": {},
     "output_type": "execute_result"
    }
   ],
   "source": [
    "df.isna().sum()"
   ]
  },
  {
   "cell_type": "code",
   "execution_count": 6,
   "metadata": {},
   "outputs": [
    {
     "data": {
      "text/plain": [
       "12753375.120052498"
      ]
     },
     "execution_count": 6,
     "metadata": {},
     "output_type": "execute_result"
    }
   ],
   "source": [
    "df.Population.mean()"
   ]
  },
  {
   "cell_type": "code",
   "execution_count": 7,
   "metadata": {},
   "outputs": [
    {
     "data": {
      "text/plain": [
       "1386542.0"
      ]
     },
     "execution_count": 7,
     "metadata": {},
     "output_type": "execute_result"
    }
   ],
   "source": [
    "df.Population.median()"
   ]
  },
  {
   "cell_type": "code",
   "execution_count": 8,
   "metadata": {},
   "outputs": [],
   "source": [
    "df.columns = df.columns.str.replace(' ', '')"
   ]
  },
  {
   "cell_type": "code",
   "execution_count": 9,
   "metadata": {},
   "outputs": [
    {
     "data": {
      "text/plain": [
       "Index(['Country', 'Year', 'Status', 'Lifeexpectancy', 'AdultMortality',\n",
       "       'infantdeaths', 'Alcohol', 'percentageexpenditure', 'HepatitisB',\n",
       "       'Measles', 'BMI', 'under-fivedeaths', 'Polio', 'Totalexpenditure',\n",
       "       'Diphtheria', 'HIV/AIDS', 'GDP', 'Population', 'thinness1-19years',\n",
       "       'thinness5-9years', 'Incomecompositionofresources', 'Schooling'],\n",
       "      dtype='object')"
      ]
     },
     "execution_count": 9,
     "metadata": {},
     "output_type": "execute_result"
    }
   ],
   "source": [
    "df.columns"
   ]
  },
  {
   "cell_type": "code",
   "execution_count": 10,
   "metadata": {},
   "outputs": [
    {
     "data": {
      "text/plain": [
       "['Antigua and Barbuda',\n",
       " 'Bahamas',\n",
       " 'Bahrain',\n",
       " 'Barbados',\n",
       " 'Bolivia (Plurinational State of)',\n",
       " 'Brunei Darussalam',\n",
       " 'Congo',\n",
       " 'Cook Islands',\n",
       " 'Cuba',\n",
       " 'Czechia',\n",
       " \"Côte d'Ivoire\",\n",
       " \"Democratic People's Republic of Korea\",\n",
       " 'Democratic Republic of the Congo',\n",
       " 'Dominica',\n",
       " 'Egypt',\n",
       " 'Gambia',\n",
       " 'Grenada',\n",
       " 'Iran (Islamic Republic of)',\n",
       " 'Kuwait',\n",
       " 'Kyrgyzstan',\n",
       " \"Lao People's Democratic Republic\",\n",
       " 'Libya',\n",
       " 'Marshall Islands',\n",
       " 'Micronesia (Federated States of)',\n",
       " 'Monaco',\n",
       " 'Nauru',\n",
       " 'New Zealand',\n",
       " 'Niue',\n",
       " 'Oman',\n",
       " 'Qatar',\n",
       " 'Republic of Korea',\n",
       " 'Republic of Moldova',\n",
       " 'Saint Kitts and Nevis',\n",
       " 'Saint Lucia',\n",
       " 'Saint Vincent and the Grenadines',\n",
       " 'San Marino',\n",
       " 'Saudi Arabia',\n",
       " 'Singapore',\n",
       " 'Slovakia',\n",
       " 'Somalia',\n",
       " 'The former Yugoslav republic of Macedonia',\n",
       " 'United Arab Emirates',\n",
       " 'United Kingdom of Great Britain and Northern Ireland',\n",
       " 'United Republic of Tanzania',\n",
       " 'United States of America',\n",
       " 'Venezuela (Bolivarian Republic of)',\n",
       " 'Viet Nam',\n",
       " 'Yemen']"
      ]
     },
     "execution_count": 10,
     "metadata": {},
     "output_type": "execute_result"
    }
   ],
   "source": [
    "list(country_df[country_df.Population.isna()==True].Country)"
   ]
  },
  {
   "cell_type": "code",
   "execution_count": 11,
   "metadata": {},
   "outputs": [],
   "source": [
    "country_pop_dict = {'Antigua and Barbuda':96286,'Bahamas':393244,'Bahrain':1701575,'Barbados':287375,\n",
    "                    'Bolivia (Plurinational State of)':11673021,'Brunei Darussalam':437479,'Congo':89561403,'Cook Islands':17564,\n",
    "                   'Cuba':11326616,'Czechia':10708981,\"Côte d'Ivoire\":26286219,\"Democratic People's Republic of Korea\":25778816,\n",
    "                    'Democratic Republic of the Congo':89561403,'Dominica':71986,'Egypt':102334404,'Gambia':2416668,'Grenada':112523,\n",
    "                    'Iran (Islamic Republic of)':83992949,'Kuwait':4270571,'Kyrgyzstan':6524195,\"Lao People's Democratic Republic\":7275560,\n",
    "                    'Libya':6871292,'Marshall Islands':59190,\"Micronesia (Federated States of)\":548914,\"Monaco\":39203,'Nauru':10824,\n",
    "                    'New Zealand':4822233,'Niue':1626,\"Oman\":5106626,'Qatar':2881053,'Republic of Korea':51269185,\n",
    "                    'Republic of Moldova':4033963,'Saint Kitts and Nevis':53199,'Saint Lucia':183627,'Saint Vincent and the Grenadines':110940,\n",
    "                    'San Marino':33921,'Saudi Arabia':34813871,'Singapore':5850342,'Slovakia':5459642,'Somalia':15830339,\n",
    "                    'The former Yugoslav republic of Macedonia':2083374,'United Arab Emirates':9890000,\n",
    "                    \"United Kingdom of Great Britain and Northern Ireland\":67886011,'United Republic of Tanzania':59734218, 'Eritrea':3546421,\n",
    "                    'United States of America':331002651,\"Venezuela (Bolivarian Republic of)\":28435940,'Viet Nam':97338579,'Yemen':29825964\n",
    "                   }"
   ]
  },
  {
   "cell_type": "code",
   "execution_count": 12,
   "metadata": {},
   "outputs": [],
   "source": [
    "df2 = df[df.Country.isin(list(country_pop_dict.keys()))]"
   ]
  },
  {
   "cell_type": "code",
   "execution_count": 13,
   "metadata": {},
   "outputs": [],
   "source": [
    "df2['Population']=df.Country"
   ]
  },
  {
   "cell_type": "code",
   "execution_count": 14,
   "metadata": {},
   "outputs": [],
   "source": [
    "df2.Population=df2.Population.map(lambda x: country_pop_dict[x])"
   ]
  },
  {
   "cell_type": "code",
   "execution_count": 15,
   "metadata": {},
   "outputs": [],
   "source": [
    "df2.Population=df2.Population.astype(float)"
   ]
  },
  {
   "cell_type": "code",
   "execution_count": 16,
   "metadata": {},
   "outputs": [],
   "source": [
    "df=df[df.Country.isin(country_pop_dict.keys())!=True]"
   ]
  },
  {
   "cell_type": "code",
   "execution_count": 17,
   "metadata": {},
   "outputs": [],
   "source": [
    "ab=pd.concat([df,df2])"
   ]
  },
  {
   "cell_type": "code",
   "execution_count": 18,
   "metadata": {},
   "outputs": [
    {
     "data": {
      "text/plain": [
       "0"
      ]
     },
     "execution_count": 18,
     "metadata": {},
     "output_type": "execute_result"
    }
   ],
   "source": [
    "ab.Population.isna().sum()"
   ]
  },
  {
   "cell_type": "code",
   "execution_count": 19,
   "metadata": {},
   "outputs": [],
   "source": [
    "df=ab"
   ]
  },
  {
   "cell_type": "code",
   "execution_count": 20,
   "metadata": {},
   "outputs": [],
   "source": [
    "df.sort_values(by='Country',inplace=True)"
   ]
  },
  {
   "cell_type": "code",
   "execution_count": 21,
   "metadata": {},
   "outputs": [
    {
     "data": {
      "text/html": [
       "<div>\n",
       "<style scoped>\n",
       "    .dataframe tbody tr th:only-of-type {\n",
       "        vertical-align: middle;\n",
       "    }\n",
       "\n",
       "    .dataframe tbody tr th {\n",
       "        vertical-align: top;\n",
       "    }\n",
       "\n",
       "    .dataframe thead th {\n",
       "        text-align: right;\n",
       "    }\n",
       "</style>\n",
       "<table border=\"1\" class=\"dataframe\">\n",
       "  <thead>\n",
       "    <tr style=\"text-align: right;\">\n",
       "      <th></th>\n",
       "      <th>Country</th>\n",
       "      <th>Year</th>\n",
       "      <th>Status</th>\n",
       "      <th>Lifeexpectancy</th>\n",
       "      <th>AdultMortality</th>\n",
       "      <th>infantdeaths</th>\n",
       "      <th>Alcohol</th>\n",
       "      <th>percentageexpenditure</th>\n",
       "      <th>HepatitisB</th>\n",
       "      <th>Measles</th>\n",
       "      <th>...</th>\n",
       "      <th>Polio</th>\n",
       "      <th>Totalexpenditure</th>\n",
       "      <th>Diphtheria</th>\n",
       "      <th>HIV/AIDS</th>\n",
       "      <th>GDP</th>\n",
       "      <th>Population</th>\n",
       "      <th>thinness1-19years</th>\n",
       "      <th>thinness5-9years</th>\n",
       "      <th>Incomecompositionofresources</th>\n",
       "      <th>Schooling</th>\n",
       "    </tr>\n",
       "  </thead>\n",
       "  <tbody>\n",
       "    <tr>\n",
       "      <td>0</td>\n",
       "      <td>Afghanistan</td>\n",
       "      <td>2015</td>\n",
       "      <td>Developing</td>\n",
       "      <td>65.0</td>\n",
       "      <td>263.0</td>\n",
       "      <td>62</td>\n",
       "      <td>0.01</td>\n",
       "      <td>71.279624</td>\n",
       "      <td>65.0</td>\n",
       "      <td>1154</td>\n",
       "      <td>...</td>\n",
       "      <td>6.0</td>\n",
       "      <td>8.16</td>\n",
       "      <td>65.0</td>\n",
       "      <td>0.1</td>\n",
       "      <td>584.259210</td>\n",
       "      <td>33736494.0</td>\n",
       "      <td>17.2</td>\n",
       "      <td>17.3</td>\n",
       "      <td>0.479</td>\n",
       "      <td>10.1</td>\n",
       "    </tr>\n",
       "    <tr>\n",
       "      <td>15</td>\n",
       "      <td>Afghanistan</td>\n",
       "      <td>2000</td>\n",
       "      <td>Developing</td>\n",
       "      <td>54.8</td>\n",
       "      <td>321.0</td>\n",
       "      <td>88</td>\n",
       "      <td>0.01</td>\n",
       "      <td>10.424960</td>\n",
       "      <td>62.0</td>\n",
       "      <td>6532</td>\n",
       "      <td>...</td>\n",
       "      <td>24.0</td>\n",
       "      <td>8.20</td>\n",
       "      <td>24.0</td>\n",
       "      <td>0.1</td>\n",
       "      <td>114.560000</td>\n",
       "      <td>293756.0</td>\n",
       "      <td>2.3</td>\n",
       "      <td>2.5</td>\n",
       "      <td>0.338</td>\n",
       "      <td>5.5</td>\n",
       "    </tr>\n",
       "    <tr>\n",
       "      <td>14</td>\n",
       "      <td>Afghanistan</td>\n",
       "      <td>2001</td>\n",
       "      <td>Developing</td>\n",
       "      <td>55.3</td>\n",
       "      <td>316.0</td>\n",
       "      <td>88</td>\n",
       "      <td>0.01</td>\n",
       "      <td>10.574728</td>\n",
       "      <td>63.0</td>\n",
       "      <td>8762</td>\n",
       "      <td>...</td>\n",
       "      <td>35.0</td>\n",
       "      <td>7.80</td>\n",
       "      <td>33.0</td>\n",
       "      <td>0.1</td>\n",
       "      <td>117.496980</td>\n",
       "      <td>2966463.0</td>\n",
       "      <td>2.1</td>\n",
       "      <td>2.4</td>\n",
       "      <td>0.340</td>\n",
       "      <td>5.9</td>\n",
       "    </tr>\n",
       "    <tr>\n",
       "      <td>13</td>\n",
       "      <td>Afghanistan</td>\n",
       "      <td>2002</td>\n",
       "      <td>Developing</td>\n",
       "      <td>56.2</td>\n",
       "      <td>3.0</td>\n",
       "      <td>88</td>\n",
       "      <td>0.01</td>\n",
       "      <td>16.887351</td>\n",
       "      <td>64.0</td>\n",
       "      <td>2486</td>\n",
       "      <td>...</td>\n",
       "      <td>36.0</td>\n",
       "      <td>7.76</td>\n",
       "      <td>36.0</td>\n",
       "      <td>0.1</td>\n",
       "      <td>187.845950</td>\n",
       "      <td>21979923.0</td>\n",
       "      <td>19.9</td>\n",
       "      <td>2.2</td>\n",
       "      <td>0.341</td>\n",
       "      <td>6.2</td>\n",
       "    </tr>\n",
       "    <tr>\n",
       "      <td>12</td>\n",
       "      <td>Afghanistan</td>\n",
       "      <td>2003</td>\n",
       "      <td>Developing</td>\n",
       "      <td>56.7</td>\n",
       "      <td>295.0</td>\n",
       "      <td>87</td>\n",
       "      <td>0.01</td>\n",
       "      <td>11.089053</td>\n",
       "      <td>65.0</td>\n",
       "      <td>798</td>\n",
       "      <td>...</td>\n",
       "      <td>41.0</td>\n",
       "      <td>8.82</td>\n",
       "      <td>41.0</td>\n",
       "      <td>0.1</td>\n",
       "      <td>198.728544</td>\n",
       "      <td>2364851.0</td>\n",
       "      <td>19.7</td>\n",
       "      <td>19.9</td>\n",
       "      <td>0.373</td>\n",
       "      <td>6.5</td>\n",
       "    </tr>\n",
       "  </tbody>\n",
       "</table>\n",
       "<p>5 rows × 22 columns</p>\n",
       "</div>"
      ],
      "text/plain": [
       "        Country  Year      Status  Lifeexpectancy  AdultMortality  \\\n",
       "0   Afghanistan  2015  Developing            65.0           263.0   \n",
       "15  Afghanistan  2000  Developing            54.8           321.0   \n",
       "14  Afghanistan  2001  Developing            55.3           316.0   \n",
       "13  Afghanistan  2002  Developing            56.2             3.0   \n",
       "12  Afghanistan  2003  Developing            56.7           295.0   \n",
       "\n",
       "    infantdeaths  Alcohol  percentageexpenditure  HepatitisB  Measles  ...  \\\n",
       "0             62     0.01              71.279624        65.0     1154  ...   \n",
       "15            88     0.01              10.424960        62.0     6532  ...   \n",
       "14            88     0.01              10.574728        63.0     8762  ...   \n",
       "13            88     0.01              16.887351        64.0     2486  ...   \n",
       "12            87     0.01              11.089053        65.0      798  ...   \n",
       "\n",
       "    Polio  Totalexpenditure  Diphtheria  HIV/AIDS         GDP  Population  \\\n",
       "0     6.0              8.16        65.0       0.1  584.259210  33736494.0   \n",
       "15   24.0              8.20        24.0       0.1  114.560000    293756.0   \n",
       "14   35.0              7.80        33.0       0.1  117.496980   2966463.0   \n",
       "13   36.0              7.76        36.0       0.1  187.845950  21979923.0   \n",
       "12   41.0              8.82        41.0       0.1  198.728544   2364851.0   \n",
       "\n",
       "    thinness1-19years  thinness5-9years  Incomecompositionofresources  \\\n",
       "0                17.2              17.3                         0.479   \n",
       "15                2.3               2.5                         0.338   \n",
       "14                2.1               2.4                         0.340   \n",
       "13               19.9               2.2                         0.341   \n",
       "12               19.7              19.9                         0.373   \n",
       "\n",
       "    Schooling  \n",
       "0        10.1  \n",
       "15        5.5  \n",
       "14        5.9  \n",
       "13        6.2  \n",
       "12        6.5  \n",
       "\n",
       "[5 rows x 22 columns]"
      ]
     },
     "execution_count": 21,
     "metadata": {},
     "output_type": "execute_result"
    }
   ],
   "source": [
    "df.head()"
   ]
  },
  {
   "cell_type": "code",
   "execution_count": 22,
   "metadata": {},
   "outputs": [
    {
     "name": "stdout",
     "output_type": "stream",
     "text": [
      "<class 'pandas.core.frame.DataFrame'>\n",
      "Int64Index: 2938 entries, 0 to 2923\n",
      "Data columns (total 22 columns):\n",
      "Country                         2938 non-null object\n",
      "Year                            2938 non-null int64\n",
      "Status                          2938 non-null object\n",
      "Lifeexpectancy                  2928 non-null float64\n",
      "AdultMortality                  2928 non-null float64\n",
      "infantdeaths                    2938 non-null int64\n",
      "Alcohol                         2744 non-null float64\n",
      "percentageexpenditure           2938 non-null float64\n",
      "HepatitisB                      2385 non-null float64\n",
      "Measles                         2938 non-null int64\n",
      "BMI                             2904 non-null float64\n",
      "under-fivedeaths                2938 non-null int64\n",
      "Polio                           2919 non-null float64\n",
      "Totalexpenditure                2712 non-null float64\n",
      "Diphtheria                      2919 non-null float64\n",
      "HIV/AIDS                        2938 non-null float64\n",
      "GDP                             2490 non-null float64\n",
      "Population                      2938 non-null float64\n",
      "thinness1-19years               2904 non-null float64\n",
      "thinness5-9years                2904 non-null float64\n",
      "Incomecompositionofresources    2771 non-null float64\n",
      "Schooling                       2775 non-null float64\n",
      "dtypes: float64(16), int64(4), object(2)\n",
      "memory usage: 527.9+ KB\n"
     ]
    }
   ],
   "source": [
    "df.info()"
   ]
  },
  {
   "cell_type": "code",
   "execution_count": 23,
   "metadata": {},
   "outputs": [
    {
     "data": {
      "text/plain": [
       "Country                           0\n",
       "Year                              0\n",
       "Status                            0\n",
       "Lifeexpectancy                   10\n",
       "AdultMortality                   10\n",
       "infantdeaths                      0\n",
       "Alcohol                         194\n",
       "percentageexpenditure             0\n",
       "HepatitisB                      553\n",
       "Measles                           0\n",
       "BMI                              34\n",
       "under-fivedeaths                  0\n",
       "Polio                            19\n",
       "Totalexpenditure                226\n",
       "Diphtheria                       19\n",
       "HIV/AIDS                          0\n",
       "GDP                             448\n",
       "Population                        0\n",
       "thinness1-19years                34\n",
       "thinness5-9years                 34\n",
       "Incomecompositionofresources    167\n",
       "Schooling                       163\n",
       "dtype: int64"
      ]
     },
     "execution_count": 23,
     "metadata": {},
     "output_type": "execute_result"
    }
   ],
   "source": [
    "df.isna().sum()"
   ]
  },
  {
   "cell_type": "code",
   "execution_count": 24,
   "metadata": {},
   "outputs": [
    {
     "name": "stdout",
     "output_type": "stream",
     "text": [
      "Lifeexpectancy\n",
      "AdultMortality\n",
      "Alcohol\n",
      "HepatitisB\n",
      "BMI\n",
      "Polio\n",
      "Totalexpenditure\n",
      "Diphtheria\n",
      "GDP\n",
      "thinness1-19years\n",
      "thinness5-9years\n",
      "Incomecompositionofresources\n",
      "Schooling\n"
     ]
    }
   ],
   "source": [
    "for col in df.columns:\n",
    "    if df[col].isna().sum()>0:\n",
    "        print(col)"
   ]
  },
  {
   "cell_type": "code",
   "execution_count": 25,
   "metadata": {},
   "outputs": [
    {
     "data": {
      "text/plain": [
       "(69.22493169398912, 72.1)"
      ]
     },
     "execution_count": 25,
     "metadata": {},
     "output_type": "execute_result"
    }
   ],
   "source": [
    "df['Lifeexpectancy'].mean(),df['Lifeexpectancy'].median()"
   ]
  },
  {
   "cell_type": "code",
   "execution_count": 26,
   "metadata": {},
   "outputs": [],
   "source": [
    "df['Lifeexpectancy'].fillna(71,inplace=True)"
   ]
  },
  {
   "cell_type": "code",
   "execution_count": 27,
   "metadata": {},
   "outputs": [
    {
     "data": {
      "text/plain": [
       "(164.79644808743168, 144.0)"
      ]
     },
     "execution_count": 27,
     "metadata": {},
     "output_type": "execute_result"
    }
   ],
   "source": [
    "df['AdultMortality'].mean(),df['AdultMortality'].median()"
   ]
  },
  {
   "cell_type": "code",
   "execution_count": 28,
   "metadata": {},
   "outputs": [],
   "source": [
    "df['AdultMortality'].fillna(154,inplace=True)"
   ]
  },
  {
   "cell_type": "code",
   "execution_count": 29,
   "metadata": {},
   "outputs": [
    {
     "data": {
      "text/plain": [
       "(4.602860787172037, 3.755)"
      ]
     },
     "execution_count": 29,
     "metadata": {},
     "output_type": "execute_result"
    }
   ],
   "source": [
    "df['Alcohol'].mean(),df['Alcohol'].median()"
   ]
  },
  {
   "cell_type": "code",
   "execution_count": 30,
   "metadata": {},
   "outputs": [],
   "source": [
    "df['Alcohol'].fillna(4.2,inplace=True)"
   ]
  },
  {
   "cell_type": "code",
   "execution_count": 31,
   "metadata": {},
   "outputs": [
    {
     "data": {
      "text/plain": [
       "(80.94046121593291, 92.0)"
      ]
     },
     "execution_count": 31,
     "metadata": {},
     "output_type": "execute_result"
    }
   ],
   "source": [
    "df['HepatitisB'].mean(),df['HepatitisB'].median()"
   ]
  },
  {
   "cell_type": "code",
   "execution_count": 32,
   "metadata": {},
   "outputs": [],
   "source": [
    "df['HepatitisB'].fillna(86,inplace=True)"
   ]
  },
  {
   "cell_type": "code",
   "execution_count": 33,
   "metadata": {},
   "outputs": [
    {
     "data": {
      "text/plain": [
       "(38.321246556473724, 43.5)"
      ]
     },
     "execution_count": 33,
     "metadata": {},
     "output_type": "execute_result"
    }
   ],
   "source": [
    "df['BMI'].mean(),df['BMI'].median()"
   ]
  },
  {
   "cell_type": "code",
   "execution_count": 34,
   "metadata": {},
   "outputs": [],
   "source": [
    "df['BMI'].fillna(41,inplace=True)"
   ]
  },
  {
   "cell_type": "code",
   "execution_count": 35,
   "metadata": {},
   "outputs": [
    {
     "data": {
      "text/plain": [
       "(82.55018842069202, 93.0)"
      ]
     },
     "execution_count": 35,
     "metadata": {},
     "output_type": "execute_result"
    }
   ],
   "source": [
    "df['Polio'].mean(),df['Polio'].median()"
   ]
  },
  {
   "cell_type": "code",
   "execution_count": 36,
   "metadata": {},
   "outputs": [],
   "source": [
    "df['Polio'].fillna(88,inplace=True)"
   ]
  },
  {
   "cell_type": "code",
   "execution_count": 37,
   "metadata": {},
   "outputs": [
    {
     "data": {
      "text/plain": [
       "(5.938189528023591, 5.755)"
      ]
     },
     "execution_count": 37,
     "metadata": {},
     "output_type": "execute_result"
    }
   ],
   "source": [
    "df['Totalexpenditure'].mean(),df['Totalexpenditure'].median()"
   ]
  },
  {
   "cell_type": "code",
   "execution_count": 38,
   "metadata": {},
   "outputs": [],
   "source": [
    "df['Totalexpenditure'].fillna(5.8,inplace=True)"
   ]
  },
  {
   "cell_type": "code",
   "execution_count": 39,
   "metadata": {},
   "outputs": [
    {
     "data": {
      "text/plain": [
       "(82.32408359027065, 93.0)"
      ]
     },
     "execution_count": 39,
     "metadata": {},
     "output_type": "execute_result"
    }
   ],
   "source": [
    "df['Diphtheria'].mean(),df['Diphtheria'].median()"
   ]
  },
  {
   "cell_type": "code",
   "execution_count": 40,
   "metadata": {},
   "outputs": [],
   "source": [
    "df['Diphtheria'].fillna(88,inplace=True)"
   ]
  },
  {
   "cell_type": "code",
   "execution_count": 41,
   "metadata": {},
   "outputs": [
    {
     "data": {
      "text/plain": [
       "(7483.158469138481, 1766.947595)"
      ]
     },
     "execution_count": 41,
     "metadata": {},
     "output_type": "execute_result"
    }
   ],
   "source": [
    "df['GDP'].mean(),df['GDP'].median()"
   ]
  },
  {
   "cell_type": "code",
   "execution_count": 42,
   "metadata": {},
   "outputs": [],
   "source": [
    "df['GDP'].fillna(1766/2+7484/2,inplace=True)"
   ]
  },
  {
   "cell_type": "code",
   "execution_count": 43,
   "metadata": {},
   "outputs": [
    {
     "data": {
      "text/plain": [
       "(3.3, 4.839703856749322)"
      ]
     },
     "execution_count": 43,
     "metadata": {},
     "output_type": "execute_result"
    }
   ],
   "source": [
    "df['thinness1-19years'].median(),df['thinness1-19years'].mean()"
   ]
  },
  {
   "cell_type": "code",
   "execution_count": 44,
   "metadata": {},
   "outputs": [],
   "source": [
    "df['thinness1-19years'].fillna(4,inplace=True)"
   ]
  },
  {
   "cell_type": "code",
   "execution_count": 45,
   "metadata": {},
   "outputs": [
    {
     "data": {
      "text/plain": [
       "(3.3, 4.870316804407711)"
      ]
     },
     "execution_count": 45,
     "metadata": {},
     "output_type": "execute_result"
    }
   ],
   "source": [
    "df['thinness5-9years'].median(),df['thinness5-9years'].mean()"
   ]
  },
  {
   "cell_type": "code",
   "execution_count": 46,
   "metadata": {},
   "outputs": [],
   "source": [
    "df['thinness5-9years'].fillna(4,inplace=True)"
   ]
  },
  {
   "cell_type": "code",
   "execution_count": 47,
   "metadata": {},
   "outputs": [
    {
     "data": {
      "text/plain": [
       "(0.677, 0.6275510645976164)"
      ]
     },
     "execution_count": 47,
     "metadata": {},
     "output_type": "execute_result"
    }
   ],
   "source": [
    "df['Incomecompositionofresources'].median(),df['Incomecompositionofresources'].mean()"
   ]
  },
  {
   "cell_type": "code",
   "execution_count": 48,
   "metadata": {},
   "outputs": [],
   "source": [
    "df['Incomecompositionofresources'].fillna(0.65,inplace=True)"
   ]
  },
  {
   "cell_type": "code",
   "execution_count": 49,
   "metadata": {},
   "outputs": [
    {
     "data": {
      "text/plain": [
       "(12.3, 11.992792792792786)"
      ]
     },
     "execution_count": 49,
     "metadata": {},
     "output_type": "execute_result"
    }
   ],
   "source": [
    "df['Schooling'].median(),df['Schooling'].mean()"
   ]
  },
  {
   "cell_type": "code",
   "execution_count": 50,
   "metadata": {},
   "outputs": [],
   "source": [
    "df['Schooling'].fillna(12,inplace=True)"
   ]
  },
  {
   "cell_type": "code",
   "execution_count": 51,
   "metadata": {},
   "outputs": [
    {
     "data": {
      "text/plain": [
       "(2938, 22)"
      ]
     },
     "execution_count": 51,
     "metadata": {},
     "output_type": "execute_result"
    }
   ],
   "source": [
    "df.shape"
   ]
  },
  {
   "cell_type": "code",
   "execution_count": 52,
   "metadata": {},
   "outputs": [
    {
     "data": {
      "text/plain": [
       "193"
      ]
     },
     "execution_count": 52,
     "metadata": {},
     "output_type": "execute_result"
    }
   ],
   "source": [
    "len(df.Country.unique())"
   ]
  },
  {
   "cell_type": "code",
   "execution_count": 53,
   "metadata": {},
   "outputs": [
    {
     "data": {
      "text/plain": [
       "0"
      ]
     },
     "execution_count": 53,
     "metadata": {},
     "output_type": "execute_result"
    }
   ],
   "source": [
    "df.isna().sum().sum()"
   ]
  },
  {
   "cell_type": "code",
   "execution_count": 54,
   "metadata": {},
   "outputs": [],
   "source": [
    "country_df = df.groupby('Country',as_index=False).mean()"
   ]
  },
  {
   "cell_type": "code",
   "execution_count": 55,
   "metadata": {},
   "outputs": [
    {
     "data": {
      "text/html": [
       "<div>\n",
       "<style scoped>\n",
       "    .dataframe tbody tr th:only-of-type {\n",
       "        vertical-align: middle;\n",
       "    }\n",
       "\n",
       "    .dataframe tbody tr th {\n",
       "        vertical-align: top;\n",
       "    }\n",
       "\n",
       "    .dataframe thead th {\n",
       "        text-align: right;\n",
       "    }\n",
       "</style>\n",
       "<table border=\"1\" class=\"dataframe\">\n",
       "  <thead>\n",
       "    <tr style=\"text-align: right;\">\n",
       "      <th></th>\n",
       "      <th>Country</th>\n",
       "      <th>Year</th>\n",
       "      <th>Lifeexpectancy</th>\n",
       "      <th>AdultMortality</th>\n",
       "      <th>infantdeaths</th>\n",
       "      <th>Alcohol</th>\n",
       "      <th>percentageexpenditure</th>\n",
       "      <th>HepatitisB</th>\n",
       "      <th>Measles</th>\n",
       "      <th>BMI</th>\n",
       "      <th>...</th>\n",
       "      <th>Polio</th>\n",
       "      <th>Totalexpenditure</th>\n",
       "      <th>Diphtheria</th>\n",
       "      <th>HIV/AIDS</th>\n",
       "      <th>GDP</th>\n",
       "      <th>Population</th>\n",
       "      <th>thinness1-19years</th>\n",
       "      <th>thinness5-9years</th>\n",
       "      <th>Incomecompositionofresources</th>\n",
       "      <th>Schooling</th>\n",
       "    </tr>\n",
       "  </thead>\n",
       "  <tbody>\n",
       "    <tr>\n",
       "      <td>0</td>\n",
       "      <td>Afghanistan</td>\n",
       "      <td>2007.5</td>\n",
       "      <td>58.19375</td>\n",
       "      <td>269.0625</td>\n",
       "      <td>78.2500</td>\n",
       "      <td>0.014375</td>\n",
       "      <td>34.960110</td>\n",
       "      <td>64.5625</td>\n",
       "      <td>2362.2500</td>\n",
       "      <td>15.51875</td>\n",
       "      <td>...</td>\n",
       "      <td>48.3750</td>\n",
       "      <td>8.252500</td>\n",
       "      <td>52.3125</td>\n",
       "      <td>0.10000</td>\n",
       "      <td>340.015425</td>\n",
       "      <td>9.972260e+06</td>\n",
       "      <td>16.58125</td>\n",
       "      <td>15.58125</td>\n",
       "      <td>0.415375</td>\n",
       "      <td>8.21250</td>\n",
       "    </tr>\n",
       "    <tr>\n",
       "      <td>1</td>\n",
       "      <td>Albania</td>\n",
       "      <td>2007.5</td>\n",
       "      <td>75.15625</td>\n",
       "      <td>45.0625</td>\n",
       "      <td>0.6875</td>\n",
       "      <td>4.848750</td>\n",
       "      <td>193.259091</td>\n",
       "      <td>98.0000</td>\n",
       "      <td>53.3750</td>\n",
       "      <td>49.06875</td>\n",
       "      <td>...</td>\n",
       "      <td>98.1250</td>\n",
       "      <td>5.945625</td>\n",
       "      <td>98.0625</td>\n",
       "      <td>0.10000</td>\n",
       "      <td>2119.726679</td>\n",
       "      <td>6.969116e+05</td>\n",
       "      <td>1.61875</td>\n",
       "      <td>1.70000</td>\n",
       "      <td>0.709875</td>\n",
       "      <td>12.13750</td>\n",
       "    </tr>\n",
       "    <tr>\n",
       "      <td>2</td>\n",
       "      <td>Algeria</td>\n",
       "      <td>2007.5</td>\n",
       "      <td>73.61875</td>\n",
       "      <td>108.1875</td>\n",
       "      <td>20.3125</td>\n",
       "      <td>0.643750</td>\n",
       "      <td>236.185241</td>\n",
       "      <td>80.0000</td>\n",
       "      <td>1943.8750</td>\n",
       "      <td>48.74375</td>\n",
       "      <td>...</td>\n",
       "      <td>91.7500</td>\n",
       "      <td>4.678750</td>\n",
       "      <td>91.8750</td>\n",
       "      <td>0.10000</td>\n",
       "      <td>2847.853392</td>\n",
       "      <td>2.164983e+07</td>\n",
       "      <td>6.09375</td>\n",
       "      <td>5.97500</td>\n",
       "      <td>0.694875</td>\n",
       "      <td>12.71250</td>\n",
       "    </tr>\n",
       "    <tr>\n",
       "      <td>3</td>\n",
       "      <td>Angola</td>\n",
       "      <td>2007.5</td>\n",
       "      <td>49.01875</td>\n",
       "      <td>328.5625</td>\n",
       "      <td>83.7500</td>\n",
       "      <td>5.644375</td>\n",
       "      <td>102.100268</td>\n",
       "      <td>77.1250</td>\n",
       "      <td>3561.3125</td>\n",
       "      <td>18.01875</td>\n",
       "      <td>...</td>\n",
       "      <td>46.1250</td>\n",
       "      <td>4.036875</td>\n",
       "      <td>47.6875</td>\n",
       "      <td>2.36875</td>\n",
       "      <td>1975.143045</td>\n",
       "      <td>1.014710e+07</td>\n",
       "      <td>6.19375</td>\n",
       "      <td>6.66875</td>\n",
       "      <td>0.458375</td>\n",
       "      <td>8.04375</td>\n",
       "    </tr>\n",
       "    <tr>\n",
       "      <td>4</td>\n",
       "      <td>Antigua and Barbuda</td>\n",
       "      <td>2007.5</td>\n",
       "      <td>75.05625</td>\n",
       "      <td>127.5000</td>\n",
       "      <td>0.0000</td>\n",
       "      <td>7.715000</td>\n",
       "      <td>1001.585226</td>\n",
       "      <td>97.5000</td>\n",
       "      <td>0.0000</td>\n",
       "      <td>38.42500</td>\n",
       "      <td>...</td>\n",
       "      <td>96.9375</td>\n",
       "      <td>4.854375</td>\n",
       "      <td>98.3125</td>\n",
       "      <td>0.12500</td>\n",
       "      <td>9759.305728</td>\n",
       "      <td>9.628600e+04</td>\n",
       "      <td>3.42500</td>\n",
       "      <td>3.37500</td>\n",
       "      <td>0.488625</td>\n",
       "      <td>8.84375</td>\n",
       "    </tr>\n",
       "    <tr>\n",
       "      <td>...</td>\n",
       "      <td>...</td>\n",
       "      <td>...</td>\n",
       "      <td>...</td>\n",
       "      <td>...</td>\n",
       "      <td>...</td>\n",
       "      <td>...</td>\n",
       "      <td>...</td>\n",
       "      <td>...</td>\n",
       "      <td>...</td>\n",
       "      <td>...</td>\n",
       "      <td>...</td>\n",
       "      <td>...</td>\n",
       "      <td>...</td>\n",
       "      <td>...</td>\n",
       "      <td>...</td>\n",
       "      <td>...</td>\n",
       "      <td>...</td>\n",
       "      <td>...</td>\n",
       "      <td>...</td>\n",
       "      <td>...</td>\n",
       "      <td>...</td>\n",
       "    </tr>\n",
       "    <tr>\n",
       "      <td>188</td>\n",
       "      <td>Venezuela (Bolivarian Republic of)</td>\n",
       "      <td>2007.5</td>\n",
       "      <td>73.38750</td>\n",
       "      <td>163.0000</td>\n",
       "      <td>9.3750</td>\n",
       "      <td>7.218750</td>\n",
       "      <td>0.000000</td>\n",
       "      <td>66.2500</td>\n",
       "      <td>165.0000</td>\n",
       "      <td>54.48750</td>\n",
       "      <td>...</td>\n",
       "      <td>74.6875</td>\n",
       "      <td>5.048750</td>\n",
       "      <td>68.5000</td>\n",
       "      <td>0.10000</td>\n",
       "      <td>4625.000000</td>\n",
       "      <td>2.843594e+07</td>\n",
       "      <td>1.65000</td>\n",
       "      <td>1.56250</td>\n",
       "      <td>0.726812</td>\n",
       "      <td>12.78750</td>\n",
       "    </tr>\n",
       "    <tr>\n",
       "      <td>189</td>\n",
       "      <td>Viet Nam</td>\n",
       "      <td>2007.5</td>\n",
       "      <td>74.77500</td>\n",
       "      <td>126.5625</td>\n",
       "      <td>29.1875</td>\n",
       "      <td>3.156875</td>\n",
       "      <td>0.000000</td>\n",
       "      <td>87.2500</td>\n",
       "      <td>4232.9375</td>\n",
       "      <td>11.18750</td>\n",
       "      <td>...</td>\n",
       "      <td>94.9375</td>\n",
       "      <td>5.966250</td>\n",
       "      <td>91.7500</td>\n",
       "      <td>0.14375</td>\n",
       "      <td>4625.000000</td>\n",
       "      <td>9.733858e+07</td>\n",
       "      <td>14.92500</td>\n",
       "      <td>15.62500</td>\n",
       "      <td>0.627062</td>\n",
       "      <td>11.51250</td>\n",
       "    </tr>\n",
       "    <tr>\n",
       "      <td>190</td>\n",
       "      <td>Yemen</td>\n",
       "      <td>2007.5</td>\n",
       "      <td>63.86250</td>\n",
       "      <td>211.8125</td>\n",
       "      <td>39.3750</td>\n",
       "      <td>0.306875</td>\n",
       "      <td>0.000000</td>\n",
       "      <td>55.6875</td>\n",
       "      <td>2761.1875</td>\n",
       "      <td>33.48750</td>\n",
       "      <td>...</td>\n",
       "      <td>67.1250</td>\n",
       "      <td>5.055000</td>\n",
       "      <td>72.6250</td>\n",
       "      <td>0.10000</td>\n",
       "      <td>4625.000000</td>\n",
       "      <td>2.982596e+07</td>\n",
       "      <td>13.83125</td>\n",
       "      <td>13.75000</td>\n",
       "      <td>0.475500</td>\n",
       "      <td>8.50625</td>\n",
       "    </tr>\n",
       "    <tr>\n",
       "      <td>191</td>\n",
       "      <td>Zambia</td>\n",
       "      <td>2007.5</td>\n",
       "      <td>53.90625</td>\n",
       "      <td>354.3125</td>\n",
       "      <td>33.4375</td>\n",
       "      <td>2.361875</td>\n",
       "      <td>89.650407</td>\n",
       "      <td>74.8750</td>\n",
       "      <td>6563.8125</td>\n",
       "      <td>17.45000</td>\n",
       "      <td>...</td>\n",
       "      <td>64.3750</td>\n",
       "      <td>5.822500</td>\n",
       "      <td>74.2500</td>\n",
       "      <td>11.93125</td>\n",
       "      <td>811.811841</td>\n",
       "      <td>6.260246e+06</td>\n",
       "      <td>6.88125</td>\n",
       "      <td>6.76250</td>\n",
       "      <td>0.498438</td>\n",
       "      <td>11.21250</td>\n",
       "    </tr>\n",
       "    <tr>\n",
       "      <td>192</td>\n",
       "      <td>Zimbabwe</td>\n",
       "      <td>2007.5</td>\n",
       "      <td>50.48750</td>\n",
       "      <td>462.3750</td>\n",
       "      <td>26.5625</td>\n",
       "      <td>4.464375</td>\n",
       "      <td>20.364271</td>\n",
       "      <td>70.5625</td>\n",
       "      <td>923.0000</td>\n",
       "      <td>25.13750</td>\n",
       "      <td>...</td>\n",
       "      <td>75.6250</td>\n",
       "      <td>6.136250</td>\n",
       "      <td>75.1875</td>\n",
       "      <td>23.26250</td>\n",
       "      <td>410.980194</td>\n",
       "      <td>8.021343e+06</td>\n",
       "      <td>7.01250</td>\n",
       "      <td>6.98750</td>\n",
       "      <td>0.439125</td>\n",
       "      <td>9.82500</td>\n",
       "    </tr>\n",
       "  </tbody>\n",
       "</table>\n",
       "<p>193 rows × 21 columns</p>\n",
       "</div>"
      ],
      "text/plain": [
       "                                Country    Year  Lifeexpectancy  \\\n",
       "0                           Afghanistan  2007.5        58.19375   \n",
       "1                               Albania  2007.5        75.15625   \n",
       "2                               Algeria  2007.5        73.61875   \n",
       "3                                Angola  2007.5        49.01875   \n",
       "4                   Antigua and Barbuda  2007.5        75.05625   \n",
       "..                                  ...     ...             ...   \n",
       "188  Venezuela (Bolivarian Republic of)  2007.5        73.38750   \n",
       "189                            Viet Nam  2007.5        74.77500   \n",
       "190                               Yemen  2007.5        63.86250   \n",
       "191                              Zambia  2007.5        53.90625   \n",
       "192                            Zimbabwe  2007.5        50.48750   \n",
       "\n",
       "     AdultMortality  infantdeaths   Alcohol  percentageexpenditure  \\\n",
       "0          269.0625       78.2500  0.014375              34.960110   \n",
       "1           45.0625        0.6875  4.848750             193.259091   \n",
       "2          108.1875       20.3125  0.643750             236.185241   \n",
       "3          328.5625       83.7500  5.644375             102.100268   \n",
       "4          127.5000        0.0000  7.715000            1001.585226   \n",
       "..              ...           ...       ...                    ...   \n",
       "188        163.0000        9.3750  7.218750               0.000000   \n",
       "189        126.5625       29.1875  3.156875               0.000000   \n",
       "190        211.8125       39.3750  0.306875               0.000000   \n",
       "191        354.3125       33.4375  2.361875              89.650407   \n",
       "192        462.3750       26.5625  4.464375              20.364271   \n",
       "\n",
       "     HepatitisB    Measles       BMI  ...    Polio  Totalexpenditure  \\\n",
       "0       64.5625  2362.2500  15.51875  ...  48.3750          8.252500   \n",
       "1       98.0000    53.3750  49.06875  ...  98.1250          5.945625   \n",
       "2       80.0000  1943.8750  48.74375  ...  91.7500          4.678750   \n",
       "3       77.1250  3561.3125  18.01875  ...  46.1250          4.036875   \n",
       "4       97.5000     0.0000  38.42500  ...  96.9375          4.854375   \n",
       "..          ...        ...       ...  ...      ...               ...   \n",
       "188     66.2500   165.0000  54.48750  ...  74.6875          5.048750   \n",
       "189     87.2500  4232.9375  11.18750  ...  94.9375          5.966250   \n",
       "190     55.6875  2761.1875  33.48750  ...  67.1250          5.055000   \n",
       "191     74.8750  6563.8125  17.45000  ...  64.3750          5.822500   \n",
       "192     70.5625   923.0000  25.13750  ...  75.6250          6.136250   \n",
       "\n",
       "     Diphtheria  HIV/AIDS          GDP    Population  thinness1-19years  \\\n",
       "0       52.3125   0.10000   340.015425  9.972260e+06           16.58125   \n",
       "1       98.0625   0.10000  2119.726679  6.969116e+05            1.61875   \n",
       "2       91.8750   0.10000  2847.853392  2.164983e+07            6.09375   \n",
       "3       47.6875   2.36875  1975.143045  1.014710e+07            6.19375   \n",
       "4       98.3125   0.12500  9759.305728  9.628600e+04            3.42500   \n",
       "..          ...       ...          ...           ...                ...   \n",
       "188     68.5000   0.10000  4625.000000  2.843594e+07            1.65000   \n",
       "189     91.7500   0.14375  4625.000000  9.733858e+07           14.92500   \n",
       "190     72.6250   0.10000  4625.000000  2.982596e+07           13.83125   \n",
       "191     74.2500  11.93125   811.811841  6.260246e+06            6.88125   \n",
       "192     75.1875  23.26250   410.980194  8.021343e+06            7.01250   \n",
       "\n",
       "     thinness5-9years  Incomecompositionofresources  Schooling  \n",
       "0            15.58125                      0.415375    8.21250  \n",
       "1             1.70000                      0.709875   12.13750  \n",
       "2             5.97500                      0.694875   12.71250  \n",
       "3             6.66875                      0.458375    8.04375  \n",
       "4             3.37500                      0.488625    8.84375  \n",
       "..                ...                           ...        ...  \n",
       "188           1.56250                      0.726812   12.78750  \n",
       "189          15.62500                      0.627062   11.51250  \n",
       "190          13.75000                      0.475500    8.50625  \n",
       "191           6.76250                      0.498438   11.21250  \n",
       "192           6.98750                      0.439125    9.82500  \n",
       "\n",
       "[193 rows x 21 columns]"
      ]
     },
     "execution_count": 55,
     "metadata": {},
     "output_type": "execute_result"
    }
   ],
   "source": [
    "country_df"
   ]
  },
  {
   "cell_type": "code",
   "execution_count": 56,
   "metadata": {},
   "outputs": [
    {
     "name": "stdout",
     "output_type": "stream",
     "text": [
      "<class 'pandas.core.frame.DataFrame'>\n",
      "Int64Index: 2938 entries, 0 to 2923\n",
      "Data columns (total 22 columns):\n",
      "Country                         2938 non-null object\n",
      "Year                            2938 non-null int64\n",
      "Status                          2938 non-null object\n",
      "Lifeexpectancy                  2938 non-null float64\n",
      "AdultMortality                  2938 non-null float64\n",
      "infantdeaths                    2938 non-null int64\n",
      "Alcohol                         2938 non-null float64\n",
      "percentageexpenditure           2938 non-null float64\n",
      "HepatitisB                      2938 non-null float64\n",
      "Measles                         2938 non-null int64\n",
      "BMI                             2938 non-null float64\n",
      "under-fivedeaths                2938 non-null int64\n",
      "Polio                           2938 non-null float64\n",
      "Totalexpenditure                2938 non-null float64\n",
      "Diphtheria                      2938 non-null float64\n",
      "HIV/AIDS                        2938 non-null float64\n",
      "GDP                             2938 non-null float64\n",
      "Population                      2938 non-null float64\n",
      "thinness1-19years               2938 non-null float64\n",
      "thinness5-9years                2938 non-null float64\n",
      "Incomecompositionofresources    2938 non-null float64\n",
      "Schooling                       2938 non-null float64\n",
      "dtypes: float64(16), int64(4), object(2)\n",
      "memory usage: 527.9+ KB\n"
     ]
    }
   ],
   "source": [
    "df.info()"
   ]
  },
  {
   "cell_type": "code",
   "execution_count": 57,
   "metadata": {},
   "outputs": [
    {
     "data": {
      "text/plain": [
       "array(['Developing', 'Developed'], dtype=object)"
      ]
     },
     "execution_count": 57,
     "metadata": {},
     "output_type": "execute_result"
    }
   ],
   "source": [
    "df.Status.unique()"
   ]
  },
  {
   "cell_type": "code",
   "execution_count": 58,
   "metadata": {},
   "outputs": [],
   "source": [
    "status_dict={'Developing':0,'Developed':1}\n",
    "df.Status=df.Status.map(lambda x: status_dict[x])"
   ]
  },
  {
   "cell_type": "code",
   "execution_count": 59,
   "metadata": {},
   "outputs": [
    {
     "data": {
      "text/plain": [
       "array([0, 1])"
      ]
     },
     "execution_count": 59,
     "metadata": {},
     "output_type": "execute_result"
    }
   ],
   "source": [
    "df.Status.unique()"
   ]
  },
  {
   "cell_type": "code",
   "execution_count": 60,
   "metadata": {},
   "outputs": [],
   "source": [
    "df.set_index('Country',inplace=True)"
   ]
  },
  {
   "cell_type": "code",
   "execution_count": 61,
   "metadata": {},
   "outputs": [
    {
     "name": "stdout",
     "output_type": "stream",
     "text": [
      "<class 'pandas.core.frame.DataFrame'>\n",
      "Index: 2938 entries, Afghanistan to Zimbabwe\n",
      "Data columns (total 21 columns):\n",
      "Year                            2938 non-null int64\n",
      "Status                          2938 non-null int64\n",
      "Lifeexpectancy                  2938 non-null float64\n",
      "AdultMortality                  2938 non-null float64\n",
      "infantdeaths                    2938 non-null int64\n",
      "Alcohol                         2938 non-null float64\n",
      "percentageexpenditure           2938 non-null float64\n",
      "HepatitisB                      2938 non-null float64\n",
      "Measles                         2938 non-null int64\n",
      "BMI                             2938 non-null float64\n",
      "under-fivedeaths                2938 non-null int64\n",
      "Polio                           2938 non-null float64\n",
      "Totalexpenditure                2938 non-null float64\n",
      "Diphtheria                      2938 non-null float64\n",
      "HIV/AIDS                        2938 non-null float64\n",
      "GDP                             2938 non-null float64\n",
      "Population                      2938 non-null float64\n",
      "thinness1-19years               2938 non-null float64\n",
      "thinness5-9years                2938 non-null float64\n",
      "Incomecompositionofresources    2938 non-null float64\n",
      "Schooling                       2938 non-null float64\n",
      "dtypes: float64(16), int64(5)\n",
      "memory usage: 505.0+ KB\n"
     ]
    }
   ],
   "source": [
    "df.info()"
   ]
  },
  {
   "cell_type": "code",
   "execution_count": 62,
   "metadata": {},
   "outputs": [
    {
     "data": {
      "image/png": "[encoded data removed]",
      "text/plain": [
       "<Figure size 864x432 with 2 Axes>"
      ]
     },
     "metadata": {
      "needs_background": "light"
     },
     "output_type": "display_data"
    }
   ],
   "source": [
    "with sns.plotting_context('poster'):\n",
    "    plt.figure(figsize=(12,6))\n",
    "    sns.heatmap(df.corr()>=0.7,cmap='Set3_r')\n",
    "    plt.show()"
   ]
  },
  {
   "cell_type": "code",
   "execution_count": 63,
   "metadata": {},
   "outputs": [],
   "source": [
    "df.drop(['under-fivedeaths','Schooling'],axis=1,inplace=True)"
   ]
  },
  {
   "cell_type": "code",
   "execution_count": 64,
   "metadata": {},
   "outputs": [
    {
     "data": {
      "image/png": "[encoded data removed]",
      "text/plain": [
       "<Figure size 864x432 with 2 Axes>"
      ]
     },
     "metadata": {
      "needs_background": "light"
     },
     "output_type": "display_data"
    }
   ],
   "source": [
    "with sns.plotting_context('talk'):\n",
    "    plt.figure(figsize=(12,6))\n",
    "    sns.heatmap(df.corr()>=0.7,cmap='Oranges')\n",
    "    plt.show()"
   ]
  },
  {
   "cell_type": "code",
   "execution_count": 65,
   "metadata": {},
   "outputs": [],
   "source": [
    "df.drop(['percentageexpenditure','thinness5-9years','Year'],axis=1,inplace=True)"
   ]
  },
  {
   "cell_type": "code",
   "execution_count": 92,
   "metadata": {},
   "outputs": [
    {
     "data": {
      "image/png": "[encoded data removed]",
      "text/plain": [
       "<Figure size 864x432 with 2 Axes>"
      ]
     },
     "metadata": {
      "needs_background": "light"
     },
     "output_type": "display_data"
    }
   ],
   "source": [
    "with sns.plotting_context('talk'):\n",
    "    plt.figure(figsize=(12,6))\n",
    "    sns.heatmap(df.corr()>=0.7,cmap='hot')\n",
    "    plt.show()"
   ]
  },
  {
   "cell_type": "code",
   "execution_count": 67,
   "metadata": {},
   "outputs": [
    {
     "name": "stdout",
     "output_type": "stream",
     "text": [
      "(2938, 16)\n"
     ]
    },
    {
     "data": {
      "text/html": [
       "<div>\n",
       "<style scoped>\n",
       "    .dataframe tbody tr th:only-of-type {\n",
       "        vertical-align: middle;\n",
       "    }\n",
       "\n",
       "    .dataframe tbody tr th {\n",
       "        vertical-align: top;\n",
       "    }\n",
       "\n",
       "    .dataframe thead th {\n",
       "        text-align: right;\n",
       "    }\n",
       "</style>\n",
       "<table border=\"1\" class=\"dataframe\">\n",
       "  <thead>\n",
       "    <tr style=\"text-align: right;\">\n",
       "      <th></th>\n",
       "      <th>Status</th>\n",
       "      <th>Lifeexpectancy</th>\n",
       "      <th>AdultMortality</th>\n",
       "      <th>infantdeaths</th>\n",
       "      <th>Alcohol</th>\n",
       "      <th>HepatitisB</th>\n",
       "      <th>Measles</th>\n",
       "      <th>BMI</th>\n",
       "      <th>Polio</th>\n",
       "      <th>Totalexpenditure</th>\n",
       "      <th>Diphtheria</th>\n",
       "      <th>HIV/AIDS</th>\n",
       "      <th>GDP</th>\n",
       "      <th>Population</th>\n",
       "      <th>thinness1-19years</th>\n",
       "      <th>Incomecompositionofresources</th>\n",
       "    </tr>\n",
       "    <tr>\n",
       "      <th>Country</th>\n",
       "      <th></th>\n",
       "      <th></th>\n",
       "      <th></th>\n",
       "      <th></th>\n",
       "      <th></th>\n",
       "      <th></th>\n",
       "      <th></th>\n",
       "      <th></th>\n",
       "      <th></th>\n",
       "      <th></th>\n",
       "      <th></th>\n",
       "      <th></th>\n",
       "      <th></th>\n",
       "      <th></th>\n",
       "      <th></th>\n",
       "      <th></th>\n",
       "    </tr>\n",
       "  </thead>\n",
       "  <tbody>\n",
       "    <tr>\n",
       "      <td>Afghanistan</td>\n",
       "      <td>0</td>\n",
       "      <td>65.0</td>\n",
       "      <td>263.0</td>\n",
       "      <td>62</td>\n",
       "      <td>0.01</td>\n",
       "      <td>65.0</td>\n",
       "      <td>1154</td>\n",
       "      <td>19.1</td>\n",
       "      <td>6.0</td>\n",
       "      <td>8.16</td>\n",
       "      <td>65.0</td>\n",
       "      <td>0.1</td>\n",
       "      <td>584.259210</td>\n",
       "      <td>33736494.0</td>\n",
       "      <td>17.2</td>\n",
       "      <td>0.479</td>\n",
       "    </tr>\n",
       "    <tr>\n",
       "      <td>Afghanistan</td>\n",
       "      <td>0</td>\n",
       "      <td>54.8</td>\n",
       "      <td>321.0</td>\n",
       "      <td>88</td>\n",
       "      <td>0.01</td>\n",
       "      <td>62.0</td>\n",
       "      <td>6532</td>\n",
       "      <td>12.2</td>\n",
       "      <td>24.0</td>\n",
       "      <td>8.20</td>\n",
       "      <td>24.0</td>\n",
       "      <td>0.1</td>\n",
       "      <td>114.560000</td>\n",
       "      <td>293756.0</td>\n",
       "      <td>2.3</td>\n",
       "      <td>0.338</td>\n",
       "    </tr>\n",
       "    <tr>\n",
       "      <td>Afghanistan</td>\n",
       "      <td>0</td>\n",
       "      <td>55.3</td>\n",
       "      <td>316.0</td>\n",
       "      <td>88</td>\n",
       "      <td>0.01</td>\n",
       "      <td>63.0</td>\n",
       "      <td>8762</td>\n",
       "      <td>12.6</td>\n",
       "      <td>35.0</td>\n",
       "      <td>7.80</td>\n",
       "      <td>33.0</td>\n",
       "      <td>0.1</td>\n",
       "      <td>117.496980</td>\n",
       "      <td>2966463.0</td>\n",
       "      <td>2.1</td>\n",
       "      <td>0.340</td>\n",
       "    </tr>\n",
       "    <tr>\n",
       "      <td>Afghanistan</td>\n",
       "      <td>0</td>\n",
       "      <td>56.2</td>\n",
       "      <td>3.0</td>\n",
       "      <td>88</td>\n",
       "      <td>0.01</td>\n",
       "      <td>64.0</td>\n",
       "      <td>2486</td>\n",
       "      <td>13.0</td>\n",
       "      <td>36.0</td>\n",
       "      <td>7.76</td>\n",
       "      <td>36.0</td>\n",
       "      <td>0.1</td>\n",
       "      <td>187.845950</td>\n",
       "      <td>21979923.0</td>\n",
       "      <td>19.9</td>\n",
       "      <td>0.341</td>\n",
       "    </tr>\n",
       "    <tr>\n",
       "      <td>Afghanistan</td>\n",
       "      <td>0</td>\n",
       "      <td>56.7</td>\n",
       "      <td>295.0</td>\n",
       "      <td>87</td>\n",
       "      <td>0.01</td>\n",
       "      <td>65.0</td>\n",
       "      <td>798</td>\n",
       "      <td>13.4</td>\n",
       "      <td>41.0</td>\n",
       "      <td>8.82</td>\n",
       "      <td>41.0</td>\n",
       "      <td>0.1</td>\n",
       "      <td>198.728544</td>\n",
       "      <td>2364851.0</td>\n",
       "      <td>19.7</td>\n",
       "      <td>0.373</td>\n",
       "    </tr>\n",
       "  </tbody>\n",
       "</table>\n",
       "</div>"
      ],
      "text/plain": [
       "             Status  Lifeexpectancy  AdultMortality  infantdeaths  Alcohol  \\\n",
       "Country                                                                      \n",
       "Afghanistan       0            65.0           263.0            62     0.01   \n",
       "Afghanistan       0            54.8           321.0            88     0.01   \n",
       "Afghanistan       0            55.3           316.0            88     0.01   \n",
       "Afghanistan       0            56.2             3.0            88     0.01   \n",
       "Afghanistan       0            56.7           295.0            87     0.01   \n",
       "\n",
       "             HepatitisB  Measles   BMI  Polio  Totalexpenditure  Diphtheria  \\\n",
       "Country                                                                       \n",
       "Afghanistan        65.0     1154  19.1    6.0              8.16        65.0   \n",
       "Afghanistan        62.0     6532  12.2   24.0              8.20        24.0   \n",
       "Afghanistan        63.0     8762  12.6   35.0              7.80        33.0   \n",
       "Afghanistan        64.0     2486  13.0   36.0              7.76        36.0   \n",
       "Afghanistan        65.0      798  13.4   41.0              8.82        41.0   \n",
       "\n",
       "             HIV/AIDS         GDP  Population  thinness1-19years  \\\n",
       "Country                                                            \n",
       "Afghanistan       0.1  584.259210  33736494.0               17.2   \n",
       "Afghanistan       0.1  114.560000    293756.0                2.3   \n",
       "Afghanistan       0.1  117.496980   2966463.0                2.1   \n",
       "Afghanistan       0.1  187.845950  21979923.0               19.9   \n",
       "Afghanistan       0.1  198.728544   2364851.0               19.7   \n",
       "\n",
       "             Incomecompositionofresources  \n",
       "Country                                    \n",
       "Afghanistan                         0.479  \n",
       "Afghanistan                         0.338  \n",
       "Afghanistan                         0.340  \n",
       "Afghanistan                         0.341  \n",
       "Afghanistan                         0.373  "
      ]
     },
     "execution_count": 67,
     "metadata": {},
     "output_type": "execute_result"
    }
   ],
   "source": [
    "print(df.shape)\n",
    "df.head()"
   ]
  },
  {
   "cell_type": "code",
   "execution_count": 68,
   "metadata": {},
   "outputs": [
    {
     "data": {
      "text/plain": [
       "<matplotlib.axes._subplots.AxesSubplot at 0x11d11ae50>"
      ]
     },
     "execution_count": 68,
     "metadata": {},
     "output_type": "execute_result"
    },
    {
     "data": {
      "image/png": "[encoded data removed]",
      "text/plain": [
       "<Figure size 432x288 with 1 Axes>"
      ]
     },
     "metadata": {
      "needs_background": "light"
     },
     "output_type": "display_data"
    }
   ],
   "source": [
    "sns.violinplot(df['Lifeexpectancy'])"
   ]
  },
  {
   "cell_type": "code",
   "execution_count": 69,
   "metadata": {},
   "outputs": [],
   "source": [
    "df = df[(np.abs(stats.zscore(df)) <= 2.5).all(axis=1)]"
   ]
  },
  {
   "cell_type": "code",
   "execution_count": 70,
   "metadata": {},
   "outputs": [
    {
     "data": {
      "text/plain": [
       "(2082, 16)"
      ]
     },
     "execution_count": 70,
     "metadata": {},
     "output_type": "execute_result"
    }
   ],
   "source": [
    "df.shape"
   ]
  },
  {
   "cell_type": "code",
   "execution_count": 71,
   "metadata": {},
   "outputs": [
    {
     "data": {
      "text/plain": [
       "<matplotlib.axes._subplots.AxesSubplot at 0x11d441410>"
      ]
     },
     "execution_count": 71,
     "metadata": {},
     "output_type": "execute_result"
    },
    {
     "data": {
      "image/png": "[encoded data removed]",
      "text/plain": [
       "<Figure size 432x288 with 1 Axes>"
      ]
     },
     "metadata": {
      "needs_background": "light"
     },
     "output_type": "display_data"
    }
   ],
   "source": [
    "sns.violinplot(df['Lifeexpectancy'])"
   ]
  },
  {
   "cell_type": "code",
   "execution_count": 72,
   "metadata": {},
   "outputs": [
    {
     "name": "stdout",
     "output_type": "stream",
     "text": [
      "2 [(45.557, 67.3], (67.3, 89.0]]\n",
      "Categories (2, interval[float64]): [(45.557, 67.3] < (67.3, 89.0]]\n",
      "3 [(45.557, 60.067], (60.067, 74.533], (74.533, 89.0]]\n",
      "Categories (3, interval[float64]): [(45.557, 60.067] < (60.067, 74.533] < (74.533, 89.0]]\n",
      "4 [(45.557, 56.45], (67.3, 78.15], (78.15, 89.0], (56.45, 67.3]]\n",
      "Categories (4, interval[float64]): [(45.557, 56.45] < (56.45, 67.3] < (67.3, 78.15] < (78.15, 89.0]]\n",
      "5 [(54.28, 62.96], (71.64, 80.32], (62.96, 71.64], (45.557, 54.28], (80.32, 89.0]]\n",
      "Categories (5, interval[float64]): [(45.557, 54.28] < (54.28, 62.96] < (62.96, 71.64] < (71.64, 80.32] < (80.32, 89.0]]\n"
     ]
    }
   ],
   "source": [
    "for i in [2,3,4,5]:\n",
    "    print(i,(pd.cut(df.Lifeexpectancy,bins=i)).unique())"
   ]
  },
  {
   "cell_type": "code",
   "execution_count": 73,
   "metadata": {},
   "outputs": [
    {
     "name": "stdout",
     "output_type": "stream",
     "text": [
      "2 [(45.599000000000004, 72.8], (72.8, 89.0]]\n",
      "Categories (2, interval[float64]): [(45.599000000000004, 72.8] < (72.8, 89.0]]\n",
      "3 [(45.599000000000004, 68.3], (68.3, 74.7], (74.7, 89.0]]\n",
      "Categories (3, interval[float64]): [(45.599000000000004, 68.3] < (68.3, 74.7] < (74.7, 89.0]]\n",
      "4 [(45.599000000000004, 65.6], (72.8, 75.8], (65.6, 72.8], (75.8, 89.0]]\n",
      "Categories (4, interval[float64]): [(45.599000000000004, 65.6] < (65.6, 72.8] < (72.8, 75.8] < (75.8, 89.0]]\n",
      "5 [(45.599000000000004, 63.12], (73.9, 76.9], (71.0, 73.9], (76.9, 89.0], (63.12, 71.0]]\n",
      "Categories (5, interval[float64]): [(45.599000000000004, 63.12] < (63.12, 71.0] < (71.0, 73.9] < (73.9, 76.9] < (76.9, 89.0]]\n"
     ]
    }
   ],
   "source": [
    "for i in [2,3,4,5]:\n",
    "    print(i,(pd.qcut(df.Lifeexpectancy,q=i)).unique())"
   ]
  },
  {
   "cell_type": "code",
   "execution_count": 74,
   "metadata": {},
   "outputs": [],
   "source": [
    "df['Target']=df[\"Lifeexpectancy\"]\n",
    "df.drop(\"Lifeexpectancy\",axis=1,inplace=True)"
   ]
  },
  {
   "cell_type": "code",
   "execution_count": 75,
   "metadata": {},
   "outputs": [],
   "source": [
    "X=df.drop([\"Target\"],axis=1)\n",
    "y=df.Target"
   ]
  },
  {
   "cell_type": "code",
   "execution_count": 76,
   "metadata": {},
   "outputs": [],
   "source": [
    "X_train,X_test,y_train,y_test=train_test_split(X,y,random_state=14,test_size=0.3)"
   ]
  },
  {
   "cell_type": "code",
   "execution_count": 77,
   "metadata": {},
   "outputs": [],
   "source": [
    "from sklearn.ensemble import RandomForestClassifier\n",
    "from sklearn.linear_model import LogisticRegression, LinearRegression, SGDClassifier, SGDRegressor\n",
    "from sklearn.naive_bayes import GaussianNB\n",
    "from sklearn.tree import DecisionTreeClassifier\n",
    "from sklearn.svm import SVC, LinearSVC\n",
    "from sklearn.neighbors import KNeighborsClassifier\n",
    "from xgboost import XGBClassifier\n",
    "\n",
    "rf = RandomForestClassifier()\n",
    "dt = DecisionTreeClassifier()\n",
    "gnb = GaussianNB()\n",
    "lr = LogisticRegression()\n",
    "lsv = LinearSVC()\n",
    "svc = SVC()\n",
    "sgd = SGDClassifier()\n",
    "xgb = XGBClassifier()\n",
    "knn = KNeighborsClassifier()\n",
    "models = [rf,dt,gnb,lr,lsv,svc,sgd,xgb,knn]"
   ]
  },
  {
   "cell_type": "code",
   "execution_count": 78,
   "metadata": {},
   "outputs": [],
   "source": [
    "mm = MinMaxScaler()\n",
    "ma = MaxAbsScaler()\n",
    "ss = StandardScaler()\n",
    "rs = RobustScaler()\n",
    "pt = PowerTransformer()\n",
    "qt = QuantileTransformer()\n",
    "mod_acc_list = []\n",
    "for i in [mm,ma,ss,rs,pt,qt]:\n",
    "    X_train_s = i.fit_transform(X_train)\n",
    "    X_test_s = i.fit_transform(X_test)\n",
    "    # X_train, X_test, y_train, y_test = train_test_split(X,y,random_state=14,test_size = 0.25)\n",
    "    k = {}\n",
    "    m = LinearRegression()\n",
    "    m.fit(X_train_s,y_train)\n",
    "    pred = m.predict(X_test_s)\n",
    "    k[f'{i}'[0:3]] = r2_score(y_test,pred)\n",
    "    mod_acc_list.append([f'{i}',k])"
   ]
  },
  {
   "cell_type": "code",
   "execution_count": 79,
   "metadata": {},
   "outputs": [
    {
     "data": {
      "text/plain": [
       "[['MinMaxScaler(copy=True, feature_range=(0, 1))',\n",
       "  {'Min': 0.8498218870136611}],\n",
       " ['MaxAbsScaler(copy=True)', {'Max': 0.8499683265264881}],\n",
       " ['StandardScaler(copy=True, with_mean=True, with_std=True)',\n",
       "  {'Sta': 0.8424976380248792}],\n",
       " ['RobustScaler(copy=True, quantile_range=(25.0, 75.0), with_centering=True,\\n             with_scaling=True)',\n",
       "  {'Rob': 0.7976253735580335}],\n",
       " [\"PowerTransformer(copy=True, method='yeo-johnson', standardize=True)\",\n",
       "  {'Pow': 0.8237032756057973}],\n",
       " [\"QuantileTransformer(copy=True, ignore_implicit_zeros=False, n_quantiles=1000,\\n                    output_distribution='uniform', random_state=None,\\n                    subsample=100000)\",\n",
       "  {'Qua': 0.7879794371870621}]]"
      ]
     },
     "execution_count": 79,
     "metadata": {},
     "output_type": "execute_result"
    }
   ],
   "source": [
    "mod_acc_list"
   ]
  },
  {
   "cell_type": "code",
   "execution_count": 80,
   "metadata": {},
   "outputs": [],
   "source": [
    "scaler = MaxAbsScaler()\n",
    "for col in X.columns:\n",
    "    X_train[col]=scaler.fit_transform(X_train[[col]])\n",
    "    X_test[col]=scaler.fit_transform(X_test[[col]])"
   ]
  },
  {
   "cell_type": "code",
   "execution_count": 81,
   "metadata": {},
   "outputs": [],
   "source": [
    "## this code is designed to find the number of features needed in the X data for an optimal accuracy score\n",
    "\n",
    "def optimize_score_rfe(scaler, dataframe,method,style,target_variable,ts,cross_val=5,goal='accuracy'):\n",
    "    \n",
    "    \"\"\"\n",
    "    Input a goal, method, style (the method of analysis written as a string), and number of cross validations and \n",
    "    receive an optimal score, number of features used, and list of features used as an output\n",
    "    \"\"\"\n",
    "    \n",
    "    # Imports and initializing variables\n",
    "    mms = scaler\n",
    "    old_score = 0\n",
    "    old_features_used = 1\n",
    "\n",
    "    # Optimize features needed\n",
    "    for i in range(1,df.shape[1]):\n",
    "        y = dataframe.Target\n",
    "        X = dataframe.drop('Target',axis=1)\n",
    "        selector = RFE(method,n_features_to_select=i)\n",
    "        # selector = RFECV(estimator=method, step=1, cv=StratifiedKFold(cross_val), scoring=goal,min_features_to_select=i)\n",
    "        selector = selector.fit(X, y.values.ravel())\n",
    "        selected_columns = X.columns[selector.support_]\n",
    "        new_y = dataframe.Target\n",
    "        new_X = dataframe[selected_columns]\n",
    "        for col in new_X.columns:\n",
    "            new_X[col] = mms.fit_transform(new_X[[col]])\n",
    "        X_train, X_test, y_train, y_test = train_test_split(new_X,new_y,test_size=ts,random_state=14) \n",
    "        method.fit(X_train,y_train)\n",
    "        Y_pred = method.predict(X_test)\n",
    "        if style == 'Linear_Regression':\n",
    "            accuracy = r2_score(y_test, Y_pred)\n",
    "        else:\n",
    "            accuracy = accuracy_score(y_test, Y_pred)\n",
    "        new_score = accuracy\n",
    "        if new_score > old_score:\n",
    "            score = new_score\n",
    "            features_used = i\n",
    "            old_score = new_score\n",
    "            old_features_used = i\n",
    "        else:\n",
    "            score = old_score\n",
    "            features_used = old_features_used\n",
    "    \n",
    "        # crate new data frame based on work\n",
    "        # selector_new = RFECV(estimator=method, step=1, cv=StratifiedKFold(cross_val), scoring='accuracy',min_features_to_select=features_used)\n",
    "        selector_new = RFE(method,n_features_to_select=features_used)\n",
    "        selector_new = selector_new.fit(X, y.values.ravel())\n",
    "        selected_columns_new = X.columns[selector_new.support_]\n",
    "        \n",
    "    # print discoveries\n",
    "    print(f'Predicting: {target_variable}')\n",
    "    print('')\n",
    "    print(f'The optimal score is {100*round(score,2)}%, and it makes use of {features_used} features from the data.')\n",
    "    print('')\n",
    "    print(f'Those features are: {list(selected_columns_new)}')"
   ]
  },
  {
   "cell_type": "code",
   "execution_count": 82,
   "metadata": {},
   "outputs": [
    {
     "name": "stdout",
     "output_type": "stream",
     "text": [
      "Predicting: life_expectancy\n",
      "\n",
      "The optimal score is 85.0%, and it makes use of 15 features from the data.\n",
      "\n",
      "Those features are: ['Status', 'AdultMortality', 'infantdeaths', 'Alcohol', 'HepatitisB', 'Measles', 'BMI', 'Polio', 'Totalexpenditure', 'Diphtheria', 'HIV/AIDS', 'GDP', 'Population', 'thinness1-19years', 'Incomecompositionofresources']\n"
     ]
    }
   ],
   "source": [
    "optimize_score_rfe(RobustScaler(),df,LinearRegression(),'Linear_Regression','life_expectancy',0.25)"
   ]
  },
  {
   "cell_type": "code",
   "execution_count": 83,
   "metadata": {},
   "outputs": [],
   "source": [
    "X_train=X_train[['Status', 'AdultMortality', 'infantdeaths', 'Alcohol', 'HepatitisB', 'Measles', 'BMI', 'Polio', 'Totalexpenditure', 'Diphtheria', 'HIV/AIDS', 'GDP', 'Population', 'thinness1-19years', 'Incomecompositionofresources']]\n",
    "X_test=X_test[['Status', 'AdultMortality', 'infantdeaths', 'Alcohol', 'HepatitisB', 'Measles', 'BMI', 'Polio', 'Totalexpenditure', 'Diphtheria', 'HIV/AIDS', 'GDP', 'Population', 'thinness1-19years', 'Incomecompositionofresources']]"
   ]
  },
  {
   "cell_type": "code",
   "execution_count": 84,
   "metadata": {},
   "outputs": [
    {
     "name": "stdout",
     "output_type": "stream",
     "text": [
      "train:0.8219578605851448, test:0.8170126484063004\n"
     ]
    }
   ],
   "source": [
    "lr=LinearRegression()\n",
    "lr.fit(X_train,y_train)\n",
    "pred_tr=lr.predict(X_train)\n",
    "pred_te=lr.predict(X_test)\n",
    "print(f'train:{r2_score(pred_tr,y_train)}, test:{r2_score(pred_te,y_test)}')"
   ]
  },
  {
   "cell_type": "code",
   "execution_count": 85,
   "metadata": {},
   "outputs": [],
   "source": [
    "conclusion = pd.DataFrame(lr.coef_).T"
   ]
  },
  {
   "cell_type": "code",
   "execution_count": 86,
   "metadata": {},
   "outputs": [],
   "source": [
    "conclusion.columns = X.columns"
   ]
  },
  {
   "cell_type": "code",
   "execution_count": 87,
   "metadata": {},
   "outputs": [
    {
     "data": {
      "text/html": [
       "<div>\n",
       "<style scoped>\n",
       "    .dataframe tbody tr th:only-of-type {\n",
       "        vertical-align: middle;\n",
       "    }\n",
       "\n",
       "    .dataframe tbody tr th {\n",
       "        vertical-align: top;\n",
       "    }\n",
       "\n",
       "    .dataframe thead th {\n",
       "        text-align: right;\n",
       "    }\n",
       "</style>\n",
       "<table border=\"1\" class=\"dataframe\">\n",
       "  <thead>\n",
       "    <tr style=\"text-align: right;\">\n",
       "      <th></th>\n",
       "      <th>Status</th>\n",
       "      <th>AdultMortality</th>\n",
       "      <th>infantdeaths</th>\n",
       "      <th>Alcohol</th>\n",
       "      <th>HepatitisB</th>\n",
       "      <th>Measles</th>\n",
       "      <th>BMI</th>\n",
       "      <th>Polio</th>\n",
       "      <th>Totalexpenditure</th>\n",
       "      <th>Diphtheria</th>\n",
       "      <th>HIV/AIDS</th>\n",
       "      <th>GDP</th>\n",
       "      <th>Population</th>\n",
       "      <th>thinness1-19years</th>\n",
       "      <th>Incomecompositionofresources</th>\n",
       "    </tr>\n",
       "  </thead>\n",
       "  <tbody>\n",
       "    <tr>\n",
       "      <td>0</td>\n",
       "      <td>1.127487</td>\n",
       "      <td>-7.825044</td>\n",
       "      <td>-7.587135</td>\n",
       "      <td>-0.815329</td>\n",
       "      <td>-3.122907</td>\n",
       "      <td>-0.080042</td>\n",
       "      <td>-0.756422</td>\n",
       "      <td>1.352511</td>\n",
       "      <td>2.991828</td>\n",
       "      <td>8.003729</td>\n",
       "      <td>-10.982553</td>\n",
       "      <td>0.0274</td>\n",
       "      <td>3.424119</td>\n",
       "      <td>-2.194948</td>\n",
       "      <td>25.155224</td>\n",
       "    </tr>\n",
       "  </tbody>\n",
       "</table>\n",
       "</div>"
      ],
      "text/plain": [
       "     Status  AdultMortality  infantdeaths   Alcohol  HepatitisB   Measles  \\\n",
       "0  1.127487       -7.825044     -7.587135 -0.815329   -3.122907 -0.080042   \n",
       "\n",
       "        BMI     Polio  Totalexpenditure  Diphtheria   HIV/AIDS     GDP  \\\n",
       "0 -0.756422  1.352511          2.991828    8.003729 -10.982553  0.0274   \n",
       "\n",
       "   Population  thinness1-19years  Incomecompositionofresources  \n",
       "0    3.424119          -2.194948                     25.155224  "
      ]
     },
     "execution_count": 87,
     "metadata": {},
     "output_type": "execute_result"
    }
   ],
   "source": [
    "conclusion"
   ]
  },
  {
   "cell_type": "code",
   "execution_count": 88,
   "metadata": {},
   "outputs": [],
   "source": [
    "variables=list(conclusion.columns)\n",
    "values=(conclusion.values).tolist()[0]"
   ]
  },
  {
   "cell_type": "code",
   "execution_count": 89,
   "metadata": {},
   "outputs": [
    {
     "data": {
      "text/plain": [
       "[1.127487271691986,\n",
       " -7.825043894092827,\n",
       " -7.587135220102065,\n",
       " -0.8153288391020634,\n",
       " -3.122907276954748,\n",
       " -0.08004156839053189,\n",
       " -0.7564222924398338,\n",
       " 1.3525110984903899,\n",
       " 2.991828366568473,\n",
       " 8.003729002259877,\n",
       " -10.982553401328637,\n",
       " 0.02740041740237853,\n",
       " 3.4241186978131815,\n",
       " -2.1949480198027684,\n",
       " 25.15522415655864]"
      ]
     },
     "execution_count": 89,
     "metadata": {},
     "output_type": "execute_result"
    }
   ],
   "source": [
    "values"
   ]
  },
  {
   "cell_type": "code",
   "execution_count": 90,
   "metadata": {},
   "outputs": [
    {
     "data": {
      "text/plain": [
       "{'axes.facecolor': 'white',\n",
       " 'axes.edgecolor': 'black',\n",
       " 'axes.grid': False,\n",
       " 'axes.axisbelow': 'line',\n",
       " 'axes.labelcolor': 'black',\n",
       " 'figure.facecolor': (1, 1, 1, 0),\n",
       " 'grid.color': '#b0b0b0',\n",
       " 'grid.linestyle': '-',\n",
       " 'text.color': 'black',\n",
       " 'xtick.color': 'black',\n",
       " 'ytick.color': 'black',\n",
       " 'xtick.direction': 'out',\n",
       " 'ytick.direction': 'out',\n",
       " 'lines.solid_capstyle': 'projecting',\n",
       " 'patch.edgecolor': 'black',\n",
       " 'image.cmap': 'viridis',\n",
       " 'font.family': ['sans-serif'],\n",
       " 'font.sans-serif': ['DejaVu Sans',\n",
       "  'Bitstream Vera Sans',\n",
       "  'Computer Modern Sans Serif',\n",
       "  'Lucida Grande',\n",
       "  'Verdana',\n",
       "  'Geneva',\n",
       "  'Lucid',\n",
       "  'Arial',\n",
       "  'Helvetica',\n",
       "  'Avant Garde',\n",
       "  'sans-serif'],\n",
       " 'patch.force_edgecolor': False,\n",
       " 'xtick.bottom': True,\n",
       " 'xtick.top': False,\n",
       " 'ytick.left': True,\n",
       " 'ytick.right': False,\n",
       " 'axes.spines.left': True,\n",
       " 'axes.spines.bottom': True,\n",
       " 'axes.spines.right': True,\n",
       " 'axes.spines.top': True}"
      ]
     },
     "execution_count": 90,
     "metadata": {},
     "output_type": "execute_result"
    }
   ],
   "source": [
    "sns.axes_style()"
   ]
  },
  {
   "cell_type": "code",
   "execution_count": 91,
   "metadata": {},
   "outputs": [
    {
     "data": {
      "image/png": "[encoded data removed]",
      "text/plain": [
       "<Figure size 1080x576 with 1 Axes>"
      ]
     },
     "metadata": {},
     "output_type": "display_data"
    }
   ],
   "source": [
    "with sns.plotting_context('poster'):\n",
    "    with sns.axes_style('darkgrid'):\n",
    "        with sns.color_palette('bwr_r'):\n",
    "            plt.figure(figsize=(15,8))\n",
    "            plt.barh(variables,values)\n",
    "            plt.show()"
   ]
  }
 ],
 "metadata": {
  "kernelspec": {
   "display_name": "Python 3",
   "language": "python",
   "name": "python3"
  },
  "language_info": {
   "codemirror_mode": {
    "name": "ipython",
    "version": 3
   },
   "file_extension": ".py",
   "mimetype": "text/x-python",
   "name": "python",
   "nbconvert_exporter": "python",
   "pygments_lexer": "ipython3",
   "version": "3.7.4"
  }
 },
 "nbformat": 4,
 "nbformat_minor": 4
}
